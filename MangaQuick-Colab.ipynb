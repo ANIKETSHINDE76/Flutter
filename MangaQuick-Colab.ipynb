{
  "cells": [
    {
      "cell_type": "code",
      "execution_count": null,
      "metadata": {
        "id": "P6CUk137Imr0"
      },
      "outputs": [],
      "source": [
        "from google.colab import drive\n",
        "drive.mount('/content/gdrive')"
      ]
    },
    {
      "cell_type": "code",
      "execution_count": null,
      "metadata": {
        "id": "YGzqH7pzIoIA"
      },
      "outputs": [],
      "source": [
        "# Navigate to the repository directory\n",
        "# Tip: You can manually navigate in the sidebar to find the directory and then copy its path.\n",
        "%cd /content/gdrive/MyDrive/Test/MangaQuick-main"
      ]
    },
    {
      "cell_type": "code",
      "execution_count": null,
      "metadata": {
        "id": "AK_ZVwswL16G"
      },
      "outputs": [],
      "source": [
        "# Print the current working directory\n",
        "!pwd"
      ]
    },
    {
      "cell_type": "code",
      "execution_count": null,
      "metadata": {
        "id": "v1zlfKX5LkFn"
      },
      "outputs": [],
      "source": [
        "# Restart session after installing dependencies\n",
        "!pip install -r requirements.txt"
      ]
    },
    {
      "cell_type": "code",
      "execution_count": null,
      "metadata": {
        "id": "Xq2DDsuLKPnC"
      },
      "outputs": [],
      "source": [
        "# Text segmentation model\n",
        "!mkdir -p components/text_detection/models"
      ]
    },
    {
      "cell_type": "code",
      "execution_count": null,
      "metadata": {
        "id": "99er-zCNKPnC"
      },
      "outputs": [],
      "source": [
        "# The different segmentation models\n",
        "!curl -L -o ./components/text_detection/models/fold.0.-.final.refined.model.2.pkl \\\n",
        "https://github.com/juvian/Manga-Text-Segmentation/releases/download/v1.0/fold.0.-.final.refined.model.2.pkl\n",
        "\n",
        "!curl -L -o ./components/text_detection/models/fold.1.-.final.refined.model.2.pkl \\\n",
        "https://github.com/juvian/Manga-Text-Segmentation/releases/download/v1.0/fold.1.-.final.refined.model.2.pkl\n",
        "\n",
        "!curl -L -o ./components/text_detection/models/fold.2.-.final.refined.model.2.pkl \\\n",
        "https://github.com/juvian/Manga-Text-Segmentation/releases/download/v1.0/fold.2.-.final.refined.model.2.pkl\n",
        "\n",
        "!curl -L -o ./components/text_detection/models/fold.3.-.final.refined.model.2.pkl \\\n",
        "https://github.com/juvian/Manga-Text-Segmentation/releases/download/v1.0/fold.3.-.final.refined.model.2.pkl\n",
        "\n",
        "!curl -L -o ./components/text_detection/models/fold.4.-.final.refined.model.2.pkl \\\n",
        "https://github.com/juvian/Manga-Text-Segmentation/releases/download/v1.0/fold.4.-.final.refined.model.2.pkl\n"
      ]
    },
    {
      "cell_type": "code",
      "execution_count": null,
      "metadata": {
        "id": "_z819jUpLvQW"
      },
      "outputs": [],
      "source": [
        "# LaMa model\n",
        "!curl -LJO https://huggingface.co/smartywu/big-lama/resolve/main/big-lama.zip\n",
        "!unzip big-lama.zip"
      ]
    },
    {
      "cell_type": "code",
      "execution_count": null,
      "metadata": {
        "id": "vKSJ8HakKPnE"
      },
      "outputs": [],
      "source": [
        "import shutil\n",
        "\n",
        "source = \"./big-lama\"\n",
        "destination = \"./components/image_inpainting/models/big-lama\"\n",
        "\n",
        "# Move the folder\n",
        "shutil.move(source, destination)\n",
        "print(f\"Successfully moved 'big-lama' to {destination}\")"
      ]
    },
    {
      "cell_type": "code",
      "execution_count": null,
      "metadata": {
        "id": "MohgKu6AlVwM"
      },
      "outputs": [],
      "source": [
        "!npm install localtunnel"
      ]
    },
    {
      "cell_type": "code",
      "execution_count": null,
      "metadata": {
        "id": "OLf_vRrCln31"
      },
      "outputs": [],
      "source": [
        "# Click url and paste the Google Colab IP\n",
        "!streamlit run MangaQuick.py &> logs.txt & npx localtunnel --port 8501 & curl ipv4.icanhazip.com"
      ]
    },
    {
      "cell_type": "code",
      "source": [
        "import pandas as pd"
      ],
      "metadata": {
        "id": "1b_zEWUDKYKJ"
      },
      "execution_count": 1,
      "outputs": []
    }
  ],
  "metadata": {
    "accelerator": "GPU",
    "colab": {
      "gpuType": "T4",
      "provenance": []
    },
    "kernelspec": {
      "display_name": "Python 3",
      "name": "python3"
    },
    "language_info": {
      "name": "python"
    }
  },
  "nbformat": 4,
  "nbformat_minor": 0
}